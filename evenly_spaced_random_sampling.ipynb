{
 "cells": [
  {
   "cell_type": "markdown",
   "id": "enormous-singles",
   "metadata": {},
   "source": [
    "# Methods for Evenly-Spaced Random Sampling \n",
    "\n",
    "How should we initialise points to evaluate (expensive) models? We want to randomly sample the allowed region, but ideally not have points too close to one-another. This problem can be solved using [Quasi Monte Carlo (QMC) methods](https://en.wikipedia.org/wiki/Quasi-Monte_Carlo_method). Since July 2021 (i.e. v1.7), `scipy` has a [QMC submodule](https://docs.scipy.org/doc/scipy/reference/stats.qmc.html) with lots of method available. We'll comapre some of these methods here.\n",
    "\n",
    "One complication is that out models have parameter constraints. Namely, we have inequality constraints on linear combinations of parameters, while QMC methods in `scipy` only sample on $[0,1]^d$. We can handle this with rejection sampling: take more points than we need, then exclude those that fall outside the constraints.\n",
    "\n",
    "Before finding out about QMC, another solution I considered was an n-body simulation, where points emit a repulsive force from one another. Inequality constriants could be handled by reflecting off the walls. For comparison (and fun), I've implemented a simple n-body integrator to demo this idea."
   ]
  },
  {
   "cell_type": "code",
   "execution_count": 1,
   "id": "ethical-extraction",
   "metadata": {},
   "outputs": [],
   "source": [
    "import numpy as np\n",
    "np.seterr(divide='ignore')\n",
    "from scipy.spatial import distance\n",
    "from scipy.stats import qmc\n",
    "import matplotlib.pyplot as plt\n",
    "\n",
    "np.random.seed(364354)"
   ]
  },
  {
   "cell_type": "code",
   "execution_count": 2,
   "id": "horizontal-relations",
   "metadata": {},
   "outputs": [],
   "source": [
    "class EvenlySpacedRandomSampling():\n",
    "    \n",
    "    def __init__(self,\n",
    "                 bounds,\n",
    "                 A_ineq=None,\n",
    "                 b_ineq=None):\n",
    "        '''\n",
    "        bounds = list of (lo,hi) tuples for each parameter x\n",
    "        where x is the paramater vector of length n.        \n",
    "        A_ineq and b_ineq are optionally a (m,n) matrix and (m,) vector\n",
    "        defining inequality constraints `A_ineq x leq b_ineq`\n",
    "        '''\n",
    "        n_dim = len(bounds)\n",
    "        self.n_dim = n_dim\n",
    "        for bound0 in bounds:\n",
    "            assert len(bound0)==2\n",
    "            assert bound0[1]>bound0[0]\n",
    "        self.bounds = bounds\n",
    "        self.lo = np.array([b0[0] for b0 in bounds])\n",
    "        self.hi = np.array([b0[1] for b0 in bounds])\n",
    "        self.range = self.hi-self.lo\n",
    "        A = np.zeros((2*n_dim, n_dim))\n",
    "        b = np.zeros(2*n_dim)\n",
    "        for i in range(n_dim):\n",
    "            A[2*i,i] = -1\n",
    "            b[2*i] = -self.lo[i]\n",
    "            A[2*i+1,i] = 1\n",
    "            b[2*i+1] = self.hi[i]\n",
    "        if (A_ineq is None) and (b_ineq is None):\n",
    "            pass\n",
    "        else:\n",
    "            n_ineq, n_dim2 = A_ineq.shape\n",
    "            self.n_ineq = n_ineq\n",
    "            assert n_dim2==n_dim\n",
    "            A = np.vstack((A, A_ineq))\n",
    "            assert len(b_ineq)==n_ineq\n",
    "            b = np.concatenate((b, b_ineq))\n",
    "        self.A = A\n",
    "        self.b = b\n",
    "        self.Aprime = np.matmul(A, np.diag(self.range))\n",
    "        self.bprime = b - np.dot(A, self.lo)\n",
    "        self.Aprime_nrm = (self.Aprime.T/distance.norm(self.Aprime, axis=1)).T\n",
    "\n",
    "    def xprime_from_x(self, x):\n",
    "        '''\n",
    "        Transform points from co-ordinates with specified-bounds to [0,1]^n  \n",
    "        '''\n",
    "        xprime = np.einsum('ij,nj->nj', np.diag(1./self.range), x)\n",
    "        xprime -= (self.lo/self.range)[np.newaxis,:]\n",
    "        return xprime\n",
    "    \n",
    "    def x_from_xprime(self, xprime):\n",
    "        '''\n",
    "        Transform points from [0,1]^n to co-ordinates with specified-bounds\n",
    "        '''\n",
    "        x = np.einsum('ij,nj->nj', np.diag(self.range), xprime)\n",
    "        x += self.lo[np.newaxis,:]\n",
    "        return x\n",
    "    \n",
    "    def uniform_sample_with_rejection(self, n, factor_per_iter=10, n_max_iter=10):\n",
    "        '''\n",
    "        Uniform sampling in [0,1] with rejection outside the contraints\n",
    "        '''\n",
    "        n_samples = 0\n",
    "        samples = np.zeros((n_samples, self.n_dim))\n",
    "        i_iter = 0\n",
    "        n_tmp = factor_per_iter*n\n",
    "        while (i_iter<n_max_iter) and (n_samples<n):\n",
    "            tmp = np.random.uniform(size=(n_tmp, self.n_dim))\n",
    "            is_valid = self.check_if_valid(tmp)\n",
    "            samples = np.vstack((samples, tmp[is_valid, :]))\n",
    "            i_iter += 1\n",
    "            n_samples = samples.shape[0]\n",
    "        if n_samples<n:\n",
    "            raise ValueError('Not enough samples created. Increase factor_per_iter or n_max_iter')\n",
    "        else:\n",
    "            samples = samples[:n, :]\n",
    "        samples = self.x_from_xprime(samples)\n",
    "        return samples\n",
    "    \n",
    "    def step(self,\n",
    "             xp,\n",
    "             force_power_law=-2,\n",
    "             tstep=0.001,\n",
    "             reflect_boost=2.,\n",
    "             kw_rejection_sample={}):\n",
    "        '''\n",
    "        A step for the n-body integrator\n",
    "        '''\n",
    "        n_particle = xp.shape[0]\n",
    "        # square matrix of mutual (repulsive) forces\n",
    "        dist = distance.pdist(xp)\n",
    "        dist = distance.squareform(dist)\n",
    "        force = dist**force_power_law\n",
    "        np.fill_diagonal(force, 0.)\n",
    "        # (n,n,n_dim) matrix of normed mutual offsets\n",
    "        offset = xp[np.newaxis,:,:] - xp[:,np.newaxis,:]\n",
    "        tmp = 1.*dist\n",
    "        np.fill_diagonal(tmp, np.inf)\n",
    "        normed_offset = offset/tmp[:,:,np.newaxis]\n",
    "        # velocity = summed mututal forces\n",
    "        # square matrix counts mutual forces twice, so half this\n",
    "        velocity = normed_offset * force[:,:,np.newaxis]\n",
    "        velocity = 0.5 * np.sum(velocity, axis=0)\n",
    "        # update position \n",
    "        xpnew = xp + tstep * velocity\n",
    "        # find particles with have escaped boundary in this timesep\n",
    "        # these will satisfy A'(x' + f*t_step*v) - b' = 0 for some 0<f<1\n",
    "        # i.e. y + fz = 0 for y = A'x' - b' and z = t_step * A'v\n",
    "        y = np.einsum('cd,nd->nc', self.Aprime, xp) - self.bprime\n",
    "        z = tstep * np.einsum('cd,nd->nc', self.Aprime, velocity)\n",
    "        f = -y/z\n",
    "        # relect particle off whichever boundary is crossed first\n",
    "        # i.e. find the crossing with minimum f for 0<f<1\n",
    "        f[f<0] = np.inf\n",
    "        f[f>1] = np.inf\n",
    "        argmin_f = np.argmin(f, axis=1)\n",
    "        min_f = f[np.arange(n_particle), argmin_f]\n",
    "        idx = np.where(min_f < np.inf)\n",
    "        # for the reflected velocity flip the sign of velocity...\n",
    "        # ... component perpendicular to boundary wall\n",
    "        v_cmp_perp = np.einsum('ij,ij->i',\n",
    "                               self.Aprime_nrm[argmin_f[idx],:],\n",
    "                               velocity[idx])\n",
    "        v_cmp_perp = (v_cmp_perp * self.Aprime_nrm[argmin_f[idx],:].T).T\n",
    "        v_cmp_par = velocity[idx] - v_cmp_perp\n",
    "        # add a boost to the reflected perpendicular velocity to prevent bunching up at edges\n",
    "        v_reflected = v_cmp_par - reflect_boost * v_cmp_perp\n",
    "        # for particles which have crossed boundary (ie subscript `idx`)\n",
    "        # replace their positions with the reflected version which traveled \n",
    "        # with original/reflected velocity for fractions f/(1-f) of the timesetep\n",
    "        xpnew[idx] = xp[idx] + tstep * (min_f[idx]*velocity[idx].T + (1-min_f[idx])*v_reflected.T).T\n",
    "        # corner particles may still not be valid\n",
    "        # since their reflected positions may be outside a second boundary\n",
    "        # replace these (hopefully few) instances with rehection samples\n",
    "        is_valid = self.check_if_valid(xpnew)\n",
    "        idx_not_valid = np.where(is_valid==False)\n",
    "        n_not_valid = len(idx_not_valid[0])\n",
    "        fraction_not_valid = n_not_valid/xp.shape[0]\n",
    "        rejection_sampled = self.uniform_sample_with_rejection(n_not_valid, **kw_rejection_sample)\n",
    "        xpnew[idx_not_valid] = rejection_sampled\n",
    "        return xpnew, fraction_not_valid\n",
    "    \n",
    "    def check_if_valid(self, xp):\n",
    "        '''\n",
    "        Check if a (primed i.e. in [0,1]) poistion is within the constrained region\n",
    "        '''\n",
    "        is_valid = np.matmul(self.Aprime, xp.T).T <= self.bprime\n",
    "        is_valid = np.prod(is_valid, axis=1, dtype=bool)\n",
    "        return is_valid\n",
    "    \n",
    "    def calibrate_tstep(self,\n",
    "                        n_part,\n",
    "                        tstep_init=1e-4,\n",
    "                        n_max_iter=10,\n",
    "                        reflect_boost=2.,\n",
    "                        factor_reduce_tsep_per_init=5.,\n",
    "                        n_steps=30,\n",
    "                        target_invalid_frac=0.01,\n",
    "                        kw_rejection_sample={},\n",
    "                        kw_step={}\n",
    "                        ):\n",
    "        '''\n",
    "        Calibrate the timestep so that only a small fraction `target_invalid_frac`\n",
    "        of particles are sent outside the constrained region\n",
    "        '''\n",
    "        i_iter = 0\n",
    "        avg_fraction_not_valid = 1.\n",
    "        tstep = factor_reduce_tsep_per_init * tstep_init\n",
    "        while (avg_fraction_not_valid > target_invalid_frac) and (i_iter < n_max_iter):\n",
    "            tstep = tstep/factor_reduce_tsep_per_init\n",
    "            tmp = []\n",
    "            xpnew = self.uniform_sample_with_rejection(n_part, **kw_rejection_sample)\n",
    "            for i in range(n_steps):\n",
    "                xpnew, fraction_not_valid = self.step(xpnew,\n",
    "                                                      tstep=tstep,\n",
    "                                                      **kw_step)\n",
    "                tmp += [fraction_not_valid]\n",
    "            avg_fraction_not_valid = np.mean(tmp)\n",
    "            i_iter += 1\n",
    "        return tstep, avg_fraction_not_valid, i_iter\n",
    "        \n",
    "    def sample_nbody(self,\n",
    "                     n_part=100,\n",
    "                     kw_rejection_sample={},\n",
    "                     kw_step={},\n",
    "                     n_steps=100):\n",
    "        '''\n",
    "        Main sampling method \n",
    "        '''\n",
    "        tstep, _, _ = self.calibrate_tstep(n_part)\n",
    "        x_steps = np.zeros((n_steps, n_part, self.n_dim))\n",
    "        xnew = self.uniform_sample_with_rejection(n_part, **kw_rejection_sample)\n",
    "        xpnew = self.xprime_from_x(xnew)\n",
    "        for i in range(n_steps):\n",
    "            x_steps[i] = self.x_from_xprime(xpnew)\n",
    "            xpnew, _ = self.step(xpnew, tstep=tstep, **kw_step)\n",
    "        return x_steps\n",
    "\n",
    "    def get_min_dist(self, xp):\n",
    "        '''\n",
    "        Get array of distances to nearest neighbour\n",
    "        '''\n",
    "        dist = distance.pdist(xp)\n",
    "        dist = distance.squareform(dist)\n",
    "        dist[dist==0] = np.inf\n",
    "        min_dist = np.min(dist, axis=0)\n",
    "        return min_dist\n",
    "    \n",
    "    def sample_with_scipy_qmc(self, n_part=100, method='Sobol', max_iter=100):\n",
    "        '''\n",
    "        Use scipy's QMC methods to sample in [0,1]^n, rejecting those \n",
    "        outside constraints, increasing the number of trials till the \n",
    "        desired number of samples remains\n",
    "        '''        \n",
    "        n_valid = 0\n",
    "        n_trial = 1*n_part\n",
    "        i_iter = 0\n",
    "        while (n_valid<n_part) and (i_iter < max_iter):\n",
    "            if method=='Sobol':\n",
    "                sampler = qmc.Sobol(d=self.n_dim, scramble=True)\n",
    "            elif method=='Halton':\n",
    "                sampler = qmc.Halton(d=self.n_dim, scramble=True)\n",
    "            elif method=='LatinHypercube':\n",
    "                sampler = qmc.LatinHypercube(d=self.n_dim)\n",
    "            sample = sampler.random(n=n_trial)\n",
    "            is_valid = self.check_if_valid(sample)\n",
    "            sample = sample[is_valid]\n",
    "            n_valid = sample.shape[0]\n",
    "            n_trial = int(n_trial*1.1)\n",
    "            i_iter += 1\n",
    "        # if there are extra points, remove the ones with nearest neighbours\n",
    "        min_dist = self.get_min_dist(sample)\n",
    "        sample = sample[np.argsort(min_dist)[-n_part:], :]\n",
    "        sample = self.x_from_xprime(sample)\n",
    "        return sample"
   ]
  },
  {
   "cell_type": "markdown",
   "id": "economic-roller",
   "metadata": {},
   "source": [
    "## A 2D example"
   ]
  },
  {
   "cell_type": "code",
   "execution_count": 3,
   "id": "damaged-breeding",
   "metadata": {},
   "outputs": [],
   "source": [
    "esrs = EvenlySpacedRandomSampling(\n",
    "    [(0,0.5), (0,1)],\n",
    "    A_ineq=np.array([[1,-1]]),\n",
    "    b_ineq=np.array([0])\n",
    ")"
   ]
  },
  {
   "cell_type": "markdown",
   "id": "considerable-filename",
   "metadata": {},
   "source": [
    "First the simplest random sampling: uniform in $[0,1]^n$ with rejection sampling to exclude points outside the constriants,"
   ]
  },
  {
   "cell_type": "code",
   "execution_count": 4,
   "id": "tight-douglas",
   "metadata": {},
   "outputs": [],
   "source": [
    "n_particles = 300\n",
    "x = esrs.uniform_sample_with_rejection(n_particles)"
   ]
  },
  {
   "cell_type": "code",
   "execution_count": 5,
   "id": "covered-salvation",
   "metadata": {},
   "outputs": [],
   "source": [
    "def plot_2d_example(x, isgif=False):\n",
    "    plt.plot(*x.T, '.k')\n",
    "    plt.axvline(0, ls=':')\n",
    "    plt.axvline(0.5, ls=':')\n",
    "    plt.plot([0,0.5], [0,0.5], ls=':')\n",
    "    plt.axhline(1, ls=':')\n",
    "    return"
   ]
  },
  {
   "cell_type": "code",
   "execution_count": 6,
   "id": "fallen-emerald",
   "metadata": {},
   "outputs": [
    {
     "data": {
      "image/png": "[encoded data removed]",
      "text/plain": [
       "<Figure size 432x288 with 1 Axes>"
      ]
     },
     "metadata": {
      "needs_background": "light"
     },
     "output_type": "display_data"
    }
   ],
   "source": [
    "plot_2d_example(x)"
   ]
  },
  {
   "cell_type": "markdown",
   "id": "acute-protection",
   "metadata": {},
   "source": [
    "Next let's compare some of the methods available in `scipy.stats.qmc`,"
   ]
  },
  {
   "cell_type": "code",
   "execution_count": 7,
   "id": "sufficient-measurement",
   "metadata": {},
   "outputs": [
    {
     "name": "stderr",
     "output_type": "stream",
     "text": [
      "/Users/pjethwa/miniconda3/envs/base_py39/lib/python3.9/site-packages/scipy/stats/_qmc.py:1078: UserWarning: The balance properties of Sobol' points require n to be a power of 2.\n",
      "  warnings.warn(\"The balance properties of Sobol' points require\"\n"
     ]
    },
    {
     "data": {
      "image/png": "[encoded data removed]",
      "text/plain": [
       "<Figure size 432x288 with 1 Axes>"
      ]
     },
     "metadata": {
      "needs_background": "light"
     },
     "output_type": "display_data"
    },
    {
     "data": {
      "image/png": "[encoded data removed]",
      "text/plain": [
       "<Figure size 432x288 with 1 Axes>"
      ]
     },
     "metadata": {
      "needs_background": "light"
     },
     "output_type": "display_data"
    },
    {
     "data": {
      "image/png": "[encoded data removed]",
      "text/plain": [
       "<Figure size 432x288 with 1 Axes>"
      ]
     },
     "metadata": {
      "needs_background": "light"
     },
     "output_type": "display_data"
    }
   ],
   "source": [
    "for method in ['Sobol', 'Halton', 'LatinHypercube']:\n",
    "    x_sobol = esrs.sample_with_scipy_qmc(n_particles, method=method)\n",
    "    plot_2d_example(x_sobol)\n",
    "    plt.gca().set_title(method)\n",
    "    plt.show()"
   ]
  },
  {
   "cell_type": "markdown",
   "id": "blessed-energy",
   "metadata": {},
   "source": [
    "The LatinHypercube does not look as good as Sobol or Halton.\n",
    "\n",
    "Next try the n-body simulation,"
   ]
  },
  {
   "cell_type": "code",
   "execution_count": 8,
   "id": "closed-boring",
   "metadata": {},
   "outputs": [],
   "source": [
    "n_steps = 30\n",
    "xsteps = esrs.sample_nbody(\n",
    "    n_part=n_particles,\n",
    "    n_steps=n_steps\n",
    ")"
   ]
  },
  {
   "cell_type": "code",
   "execution_count": 9,
   "id": "innovative-extraction",
   "metadata": {},
   "outputs": [],
   "source": [
    "import imageio\n",
    "import os\n",
    "\n",
    "def gif_2d_example(xsteps, outfile='mygif.gif'):\n",
    "    n_steps, _, _ = xsteps.shape\n",
    "    filenames = []\n",
    "    for i in range(n_steps):\n",
    "        x = xsteps[i]\n",
    "        plot_2d_example(x)\n",
    "        fig = plt.gcf()\n",
    "        filename = f'{i}.png'\n",
    "        filenames.append(filename)\n",
    "        plt.savefig(filename)\n",
    "        plt.close()\n",
    "    # build gif\n",
    "    with imageio.get_writer(outfile, mode='I') as writer:\n",
    "        for f0 in filenames:\n",
    "            image = imageio.imread(f0)\n",
    "            writer.append_data(image)\n",
    "    # Remove files\n",
    "    for f0 in set(filenames):\n",
    "        os.remove(f0)\n",
    "    return"
   ]
  },
  {
   "cell_type": "code",
   "execution_count": 10,
   "id": "oriental-enlargement",
   "metadata": {},
   "outputs": [],
   "source": [
    "gif_2d_example(xsteps, outfile='example_2d.gif')"
   ]
  },
  {
   "cell_type": "markdown",
   "id": "881c00b1",
   "metadata": {},
   "source": [
    "<img src=\"example_2d.gif\" align=\"center\">"
   ]
  },
  {
   "cell_type": "markdown",
   "id": "08b11cb8",
   "metadata": {},
   "source": [
    "The particles bunch up against the walls. Though they are reflected, they seem to be pinned to the edges by the repulsion of all other particles. We could maybe fix this by boosting the velocities of the particles when they are reflected off the walls. Here by a factor of ten,"
   ]
  },
  {
   "cell_type": "code",
   "execution_count": 11,
   "id": "4a11122d",
   "metadata": {},
   "outputs": [],
   "source": [
    "n_steps = 30\n",
    "xsteps = esrs.sample_nbody(\n",
    "    n_part=n_particles,\n",
    "    n_steps=n_steps,\n",
    "    kw_step={'reflect_boost':10.}    \n",
    ")"
   ]
  },
  {
   "cell_type": "code",
   "execution_count": 12,
   "id": "974d2840",
   "metadata": {},
   "outputs": [],
   "source": [
    "gif_2d_example(xsteps, outfile='example_2d_boost.gif')"
   ]
  },
  {
   "cell_type": "markdown",
   "id": "7389fe21",
   "metadata": {},
   "source": [
    "<img src=\"example_2d_boost.gif\" align=\"center\">"
   ]
  },
  {
   "cell_type": "markdown",
   "id": "518da152",
   "metadata": {},
   "source": [
    "To compare these quantitatively, we can look at the distribution of distances from each particles to its nearest neighbour,"
   ]
  },
  {
   "cell_type": "code",
   "execution_count": 13,
   "id": "lined-anderson",
   "metadata": {},
   "outputs": [
    {
     "name": "stderr",
     "output_type": "stream",
     "text": [
      "/Users/pjethwa/miniconda3/envs/base_py39/lib/python3.9/site-packages/scipy/stats/_qmc.py:1078: UserWarning: The balance properties of Sobol' points require n to be a power of 2.\n",
      "  warnings.warn(\"The balance properties of Sobol' points require\"\n"
     ]
    },
    {
     "data": {
      "text/plain": [
       "Text(0.5, 1.0, 'Distribution of Distance to Nearest Neighbours')"
      ]
     },
     "execution_count": 13,
     "metadata": {},
     "output_type": "execute_result"
    },
    {
     "data": {
      "image/png": "[encoded data removed]",
      "text/plain": [
       "<Figure size 432x288 with 1 Axes>"
      ]
     },
     "metadata": {
      "needs_background": "light"
     },
     "output_type": "display_data"
    }
   ],
   "source": [
    "x = esrs.uniform_sample_with_rejection(n_particles)\n",
    "min_dist_unif = esrs.get_min_dist(x)\n",
    "x = esrs.sample_with_scipy_qmc(n_particles, method='Sobol')\n",
    "min_dist_sobol = esrs.get_min_dist(x)\n",
    "x = esrs.sample_with_scipy_qmc(n_particles, method='Halton')\n",
    "min_dist_halton = esrs.get_min_dist(x)\n",
    "x = esrs.sample_with_scipy_qmc(n_particles, method='LatinHypercube')\n",
    "min_dist_lhcs = esrs.get_min_dist(x)\n",
    "# for n-body take the last snapshot of the previous simulation\n",
    "min_dist_nbody = esrs.get_min_dist(xsteps[-1])\n",
    "\n",
    "x = [min_dist_unif,\n",
    "     min_dist_sobol,\n",
    "     min_dist_halton,\n",
    "     min_dist_lhcs,\n",
    "     min_dist_nbody]\n",
    "labels=['Uniform',\n",
    "        'Sobol',\n",
    "        'Halton',\n",
    "        'LHCS',\n",
    "        'n-body']\n",
    "_ = plt.boxplot(x, labels=labels, vert=False, meanline=False)\n",
    "plt.axvline(np.median(min_dist_unif), ls=':', color='k')\n",
    "plt.gca().set_title('Distribution of Distance to Nearest Neighbours')"
   ]
  },
  {
   "cell_type": "markdown",
   "id": "886eaf2c",
   "metadata": {},
   "source": [
    "As we saw visually above, it appears that latin hypercube sampling is no better than uniform random. This may be a cosequence of using rejection sampling to impose the ineuqality constraints.\n",
    "\n",
    "Note there is a paper about [Latin hypercube sampling with inequality constraints](https://arxiv.org/abs/0909.0329), which presents a method to permute a LHC sample to satisfy linear inequalities while retaining the LHCS property. How well would this work? Figure 4 of that paper suggests to me that the perutations will lead to samples bunching up against the inequality.\n",
    "\n",
    "I don't think it is worth looking into LHCS further, as Halton and Sobal produce better results. The best result here is from the n-body code.\n",
    "\n",
    "## A 7D example\n",
    "\n",
    "Our modelling problem has 7 parameters which must satisfy 4 inequality constraints. The exact parameter ranges and the form of the inqualites depend on other hyper-parameters, which can change from problem instance to instance. Hence here, we will test the sampling methods with a *representative* 7D space with 4 constraints,"
   ]
  },
  {
   "cell_type": "code",
   "execution_count": 14,
   "id": "7e1b6a91",
   "metadata": {},
   "outputs": [],
   "source": [
    "esrs = EvenlySpacedRandomSampling(\n",
    "    [(0,1)]*7,\n",
    "    A_ineq=np.array([\n",
    "        [1,-1,0,0,0,0,0],\n",
    "        [1,0,-1,0,0,0,0],\n",
    "        [0,0,0,0,0,1,-1],\n",
    "        [0,0,0,0,1,0,-1],\n",
    "    ]),\n",
    "    b_ineq=np.array([0,0,0,0])\n",
    ")"
   ]
  },
  {
   "cell_type": "markdown",
   "id": "3acdad69",
   "metadata": {},
   "source": [
    "Get the nearest neighbour distances for each of the methods,"
   ]
  },
  {
   "cell_type": "code",
   "execution_count": 15,
   "id": "8868f6db",
   "metadata": {},
   "outputs": [
    {
     "name": "stderr",
     "output_type": "stream",
     "text": [
      "/Users/pjethwa/miniconda3/envs/base_py39/lib/python3.9/site-packages/scipy/stats/_qmc.py:1078: UserWarning: The balance properties of Sobol' points require n to be a power of 2.\n",
      "  warnings.warn(\"The balance properties of Sobol' points require\"\n"
     ]
    },
    {
     "data": {
      "text/plain": [
       "Text(0.5, 1.0, 'Distribution of Distance to Nearest Neighbours')"
      ]
     },
     "execution_count": 15,
     "metadata": {},
     "output_type": "execute_result"
    },
    {
     "data": {
      "image/png": "[encoded data removed]",
      "text/plain": [
       "<Figure size 432x288 with 1 Axes>"
      ]
     },
     "metadata": {
      "needs_background": "light"
     },
     "output_type": "display_data"
    }
   ],
   "source": [
    "x = esrs.uniform_sample_with_rejection(n_particles)\n",
    "min_dist_unif = esrs.get_min_dist(x)\n",
    "x = esrs.sample_with_scipy_qmc(n_particles, method='Sobol')\n",
    "min_dist_sobol = esrs.get_min_dist(x)\n",
    "x = esrs.sample_with_scipy_qmc(n_particles, method='Halton')\n",
    "min_dist_halton = esrs.get_min_dist(x)\n",
    "x = esrs.sample_with_scipy_qmc(n_particles, method='LatinHypercube')\n",
    "min_dist_lhcs = esrs.get_min_dist(x)\n",
    "\n",
    "# For the n-body simulation, let's take more steps\n",
    "# to let things diffuse suffieciently,\n",
    "\n",
    "n_steps = 1000\n",
    "xsteps = esrs.sample_nbody(\n",
    "    n_part=n_particles,\n",
    "    n_steps=n_steps,\n",
    "    kw_step={'reflect_boost':10.}    \n",
    ")\n",
    "min_dist_nbody = esrs.get_min_dist(xsteps[-1])\n",
    "\n",
    "x = [min_dist_unif,\n",
    "     min_dist_sobol,\n",
    "     min_dist_halton,\n",
    "     min_dist_lhcs,\n",
    "     min_dist_nbody]\n",
    "labels=['Uniform',\n",
    "        'Sobol',\n",
    "        'Halton',\n",
    "        'LHCS',\n",
    "        'n-body']\n",
    "_ = plt.boxplot(x, labels=labels, vert=False, meanline=False)\n",
    "plt.axvline(np.median(min_dist_unif), ls=':', color='k')\n",
    "plt.gca().set_title('Distribution of Distance to Nearest Neighbours')"
   ]
  },
  {
   "cell_type": "markdown",
   "id": "45f2bee0",
   "metadata": {},
   "source": [
    "Again, LHCS looks like it is hardly better than random. N-body produces the best median result, however it gives a long left-tail compared to Sobol and Halton. This is quite sensitive to how we pick the *releftion boost* parameter. While N-body has perfrmed well overall, with relatively little tuning, perhaps it is better to go with more tried-and-trusted approaches.\n",
    "\n",
    "Sobol and Halton are somewhat better than uniform in their median nearest neighbour diatnces, however with significantly shorter left tails. Eihter would be a reasonable choice."
   ]
  }
 ],
 "metadata": {
  "kernelspec": {
   "display_name": "Python 3 (ipykernel)",
   "language": "python",
   "name": "python3"
  },
  "language_info": {
   "codemirror_mode": {
    "name": "ipython",
    "version": 3
   },
   "file_extension": ".py",
   "mimetype": "text/x-python",
   "name": "python",
   "nbconvert_exporter": "python",
   "pygments_lexer": "ipython3",
   "version": "3.9.6"
  }
 },
 "nbformat": 4,
 "nbformat_minor": 5
}
